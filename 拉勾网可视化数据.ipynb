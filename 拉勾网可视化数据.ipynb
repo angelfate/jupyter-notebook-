{
 "cells": [
  {
   "cell_type": "code",
   "execution_count": null,
   "metadata": {
    "collapsed": true
   },
   "outputs": [],
   "source": [
    "import requests\n",
    "import random\n",
    "import re\n",
    "import pandas as pd\n",
    "import numpy as np\n",
    "import matplotlib.pyplot as plt\n",
    "import jieba # 分词\n",
    "from wordcloud import WordCloud # 词云可视化\n",
    "import matplotlib as mpl\n",
    "from pyecharts import Geo # 地理图"
   ]
  },
  {
   "cell_type": "code",
   "execution_count": null,
   "metadata": {
    "collapsed": true
   },
   "outputs": [],
   "source": [
    "#post网址\n",
    "url = 'https://www.lagou.com/jobs/positionAjax.json?needAddtionalResult=false'"
   ]
  },
  {
   "cell_type": "code",
   "execution_count": null,
   "metadata": {
    "collapsed": true
   },
   "outputs": [],
   "source": [
    "  #反爬措施\n",
    "proxies_list=[  'https://61.135.217.7:80',\n",
    "    # 'https://182.202.222.94:61234',\n",
    "    # 'https://60.177.226.144:18118',\n",
    "    # 'https://14.118.253.199:6666',\n",
    "    # 'https://27.10.235.47:61202'\n",
    "]\n",
    "proxies={\n",
    "   'https':random.choice(proxies_list)\n",
    "}\n",
    "user_agent_list = [\n",
    "    'Mozilla/5.0 (Macintosh; U; Intel Mac OS X 10_6_8; en-us) AppleWebKit/534.50 (KHTML, like Gecko) Version/5.1 Safari/534.50',\n",
    "    'Mozilla/5.0 (Windows; U; Windows NT 6.1; en-us) AppleWebKit/534.50 (KHTML, like Gecko) Version/5.1 Safari/534.50',\n",
    "    'Mozilla/5.0 (compatible; MSIE 9.0; Windows NT 6.1; Trident/5.0',\n",
    "    'Mozilla/4.0 (compatible; MSIE 8.0; Windows NT 6.0; Trident/4.0)',\n",
    "    'Mozilla/4.0 (compatible; MSIE 7.0; Windows NT 6.0)',\n",
    "    'Mozilla/4.0 (compatible; MSIE 6.0; Windows NT 5.1)',\n",
    "    'Mozilla/5.0 (Macintosh; Intel Mac OS X 10.6; rv:2.0.1) Gecko/20100101 Firefox/4.0.1',\n",
    "    'Mozilla/5.0 (Windows NT 6.1; rv:2.0.1) Gecko/20100101 Firefox/4.0.1',\n",
    "    'Opera/9.80 (Macintosh; Intel Mac OS X 10.6.8; U; en) Presto/2.8.131 Version/11.11',\n",
    "    'Opera/9.80 (Windows NT 6.1; U; en) Presto/2.8.131 Version/11.11',\n",
    "    'Mozilla/5.0 (Macintosh; Intel Mac OS X 10_7_0) AppleWebKit/535.11 (KHTML, like Gecko) Chrome/17.0.963.56 Safari/535.11',\n",
    "    'Mozilla/4.0 (compatible; MSIE 7.0; Windows NT 5.1; Maxthon 2.0)',\n",
    "    'Mozilla/4.0 (compatible; MSIE 7.0; Windows NT 5.1; TencentTraveler 4.0)',\n",
    "    'Mozilla/4.0 (compatible; MSIE 7.0; Windows NT 5.1; Trident/4.0; SE 2.X MetaSr 1.0; SE 2.X MetaSr 1.0; .NET CLR 2.0.50727; SE 2.X MetaSr 1.0)',\n",
    "    'Mozilla/4.0 (compatible; MSIE 7.0; Windows NT 5.1; 360SE)',\n",
    "]\n",
    "headers = {\n",
    "    'User-Agent':random.choice(user_agent_list),\n",
    "    'Cookie': '_ga=GA1.2.377510614.1532223936; user_trace_token=20180722094532-ebb933c2-8d50-11e8-9ee6-5254005c3644; LGUID=20180722094532-ebb93ae9-8d50-11e8-9ee6-5254005c3644; index_location_city=%E5%85%A8%E5%9B%BD; WEBTJ-ID=20180730135636-164e9c285f838f-00f1a3cb562e07-3a614f0b-1327104-164e9c285fd214; _gat=1; LGSID=20180730135637-528e49e0-93bd-11e8-a082-5254005c3644; PRE_UTM=m_cf_cpt_baidu_pc; PRE_HOST=www.baidu.com; PRE_SITE=https%3A%2F%2Fwww.baidu.com%2Fs%3Fwd%3D%25E6%258B%2589%25E5%258B%25BE%25E7%25BD%2591%26rsv_spt%3D1%26rsv_iqid%3D0xfbdb664700013360%26issp%3D1%26f%3D3%26rsv_bp%3D1%26rsv_idx%3D2%26ie%3Dutf-8%26rqlang%3Dcn%26tn%3Dbaiduhome_pg%26rsv_enter%3D1%26oq%3Djupyter%252520notebook%26rsv_t%3Dfe10buyr1E83SNHLUtUEphD5seMEyutkrwZRcWYDjnBAWl4OlO19MsOScUuHQVQCN5aO%26inputT%3D3953%26rsv_pq%3Dfdb4014000038cf7%26rsv_sug3%3D14%26rsv_sug1%3D8%26rsv_sug7%3D100%26bs%3Djupyter%2520notebook; PRE_LAND=https%3A%2F%2Fwww.lagou.com%2Flp%2Fhtml%2Fcommon.html%3Futm_source%3Dm_cf_cpt_baidu_pc; JSESSIONID=ABAAABAAAFCAAEG5C19C701C1114B2E9849D9D6A28AE773; TG-TRACK-CODE=index_navigation; Hm_lvt_4233e74dff0ae5bd0a3d81c6ccf756e6=1532930197,1532930204,1532930745,1532930762; Hm_lpvt_4233e74dff0ae5bd0a3d81c6ccf756e6=1532930766; LGRID=20180730140606-a541d4bb-93be-11e8-abab-525400f775ce; SEARCH_ID=15532264bf3544688d7c9a29bf8bf9d2',\n",
    "    'Referer': 'https://www.lagou.com/jobs/list_python?city=%E5%85%A8%E5%9B%BD&cl=false&fromSearch=true&labelWords=&suginput=',\n",
    "    'Host': 'www.lagou.com',\n",
    "    'Content-Type': 'application/x-www-form-urlencoded; charset=UTF-8',\n",
    "}\n",
    "\n",
    "\n"
   ]
  },
  {
   "cell_type": "code",
   "execution_count": null,
   "metadata": {},
   "outputs": [],
   "source": [
    "for i in range(30):\n",
    "    data = {\n",
    "    'first': 'true',\n",
    "    'pn': str(i),\n",
    "    'kd': 'python'      \n",
    "}\n",
    "    print('正在下载第',i,'页')\n",
    "    print(proxies)\n",
    "    req = requests.post(url,data=data,proxies=proxies,headers=headers)\n",
    "    print(req.status_code)\n",
    "    # result = html.json()\n",
    "    # items = result['content']['positionResult']['result'][0]['positionName']\n",
    "    # print(req.text)\n",
    "    html = req.text\n",
    "    # 公司id，公司名字，工作年限，文化程度，城市，五险一金,全职\n",
    "    items = re.findall(\n",
    "        '{\"companyId\":.*?,\"positionName\":\"(.*?)\".*?\"workYear\":\"(.*?)\",\"education\":\"(.*?)\",\"jobNature\":\"(.*?)\",\"positionId\":.*?\"salary\":\"(.*?)\",\"city\":\"(.*?)\",\"financeStage\":\"(.*?)\",\"industryField\":\"(.*?)\".*?,\"companyShortName\":\"(.*?)\",\"companySize\":\"(.*?)\".*?,\"district\":\"(.*?)\"',\n",
    "        html)\n",
    "    # items = re.findall('{\"companyId\":.*?,\"positionName\":\"(.*?)\".*?\"workYear\":\"(.*?)\".*?\"education\":\"(.*?)\".*?\"jobNature\":\"(.*?)\",\"positionId\":(.*?),\"createTime\":.*?\"city\":\"(.*?)\",',html)\n",
    "    print(items)\n",
    "    data = pd.DataFrame(items)\n",
    "    data.to_csv(r'E:\\jupyter-notebook\\data\\LaGouDataMatlab.csv',header=False,index=False,mode=\"a+\")"
   ]
  },
  {
   "cell_type": "code",
   "execution_count": null,
   "metadata": {
    "collapsed": true
   },
   "outputs": [],
   "source": []
  }
 ],
 "metadata": {
  "kernelspec": {
   "display_name": "Python 3",
   "language": "python",
   "name": "python3"
  },
  "language_info": {
   "codemirror_mode": {
    "name": "ipython",
    "version": 3
   },
   "file_extension": ".py",
   "mimetype": "text/x-python",
   "name": "python",
   "nbconvert_exporter": "python",
   "pygments_lexer": "ipython3",
   "version": "3.6.1"
  }
 },
 "nbformat": 4,
 "nbformat_minor": 2
}
