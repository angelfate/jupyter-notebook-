{
 "cells": [
  {
   "cell_type": "code",
   "execution_count": null,
   "metadata": {
    "collapsed": true
   },
   "outputs": [],
   "source": [
    "1根据总评数量来判断汽车在市场上的受欢迎程度前20辆\n",
    "\n",
    "2随后根据评论数大于80条的车辆进行判断，判断出各个类型的占比情况，通过饼状图展示，并通过表格降序展示\n",
    "\n",
    "3计算出排名车型的平均油耗和平均价格    柱状图显示\n",
    "\n",
    "4展示前5种车型中，好评比总评的结果  排名靠前15辆车，对这些车的油耗进行xyz 散点图图 分析，x轴车辆名称，y轴油耗，z轴好评比总评。\n",
    "（5个车型，一个车型15辆车，5个散点图）\n",
    "\n",
    "\n",
    "以上车型分析\n",
    "以下品牌分析\n",
    "5根据评论数大于80条的车辆里进行汽车牌子的排名，前5名牌子的汽车根据评分对车辆进行降序排列\n",
    "\n",
    "6针对最低价10以下，10-30,30-100,100w的车，对于厂商进行分析，饼状图\n",
    "\n",
    "7判断前5品牌在该价位评分靠前的5款车，x轴汽车名称，y'轴评分散点图\n",
    "\n",
    "8并对这些车好评分析，看购买者关注的点，词云展示，并展示评价多的车前5辆\n",
    "\n",
    "\n",
    "最后加一些舆论\n"
   ]
  }
 ],
 "metadata": {
  "kernelspec": {
   "display_name": "Python 3",
   "language": "python",
   "name": "python3"
  },
  "language_info": {
   "codemirror_mode": {
    "name": "ipython",
    "version": 3
   },
   "file_extension": ".py",
   "mimetype": "text/x-python",
   "name": "python",
   "nbconvert_exporter": "python",
   "pygments_lexer": "ipython3",
   "version": "3.6.1"
  }
 },
 "nbformat": 4,
 "nbformat_minor": 2
}
