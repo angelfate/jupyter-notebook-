{
 "cells": [
  {
   "cell_type": "code",
   "execution_count": 11,
   "metadata": {
    "collapsed": true
   },
   "outputs": [],
   "source": [
    "import re\n",
    "import pandas as pd\n",
    "import numpy as np\n",
    "import matplotlib.pyplot as plt\n",
    "import jieba # 分词\n",
    "from wordcloud import WordCloud # 词云可视化\n",
    "import matplotlib as mpl\n",
    "from pyecharts import Geo # 地理图"
   ]
  },
  {
   "cell_type": "code",
   "execution_count": 12,
   "metadata": {
    "collapsed": true
   },
   "outputs": [],
   "source": [
    "plt.rcParams['font.sans-serif']=['SimHei'] #用来正常显示中文标签\n",
    "plt.rcParams['axes.unicode_minus']=False #用来正常显示负号\n",
    "#配置风格\n",
    "plt.rcParams[\"axes.labelsize\"] = 16.\n",
    "plt.rcParams[\"xtick.labelsize\"] = 14.\n",
    "plt.rcParams[\"ytick.labelsize\"] = 14.\n",
    "plt.rcParams[\"legend.fontsize\"] = 12.\n",
    "plt.rcParams[\"figure.figsize\"] = [15.,15.]"
   ]
  },
  {
   "cell_type": "code",
   "execution_count": 13,
   "metadata": {},
   "outputs": [
    {
     "data": {
      "text/html": [
       "<div>\n",
       "<style scoped>\n",
       "    .dataframe tbody tr th:only-of-type {\n",
       "        vertical-align: middle;\n",
       "    }\n",
       "\n",
       "    .dataframe tbody tr th {\n",
       "        vertical-align: top;\n",
       "    }\n",
       "\n",
       "    .dataframe thead th {\n",
       "        text-align: right;\n",
       "    }\n",
       "</style>\n",
       "<table border=\"1\" class=\"dataframe\">\n",
       "  <thead>\n",
       "    <tr style=\"text-align: right;\">\n",
       "      <th></th>\n",
       "      <th>公司名称</th>\n",
       "      <th>公司编号</th>\n",
       "      <th>公司规模</th>\n",
       "      <th>公司类型</th>\n",
       "      <th>工作城市</th>\n",
       "      <th>工作路段</th>\n",
       "      <th>学历需求</th>\n",
       "      <th>招募类型</th>\n",
       "      <th>工作/福利</th>\n",
       "      <th>工作类型</th>\n",
       "      <th>福利</th>\n",
       "    </tr>\n",
       "  </thead>\n",
       "  <tbody>\n",
       "    <tr>\n",
       "      <th>0</th>\n",
       "      <td>杭州时至信息技术有限公司</td>\n",
       "      <td>CZ291000080</td>\n",
       "      <td>20人以下</td>\n",
       "      <td>民营</td>\n",
       "      <td>杭州-西湖区</td>\n",
       "      <td>古墩路</td>\n",
       "      <td>大专</td>\n",
       "      <td>全职</td>\n",
       "      <td>docker,Java,Python,GO,爬虫,云计算,每年多次调薪,五险一金,绩效奖金,...</td>\n",
       "      <td>软件/互联网开发/系统集成,互联网软件工程师</td>\n",
       "      <td>每年多次调薪,五险一金,绩效奖金,股票期权,带薪年假</td>\n",
       "    </tr>\n",
       "    <tr>\n",
       "      <th>1</th>\n",
       "      <td>深圳市昊微科技有限公司</td>\n",
       "      <td>CZ642828880</td>\n",
       "      <td>不限</td>\n",
       "      <td>民营</td>\n",
       "      <td>深圳</td>\n",
       "      <td>西乡</td>\n",
       "      <td>大专</td>\n",
       "      <td>全职</td>\n",
       "      <td>每年多次调薪,全勤奖,加班补助,绩效奖金,带薪年假,员工旅游,餐补</td>\n",
       "      <td>软件/互联网开发/系统集成,软件工程师</td>\n",
       "      <td>每年多次调薪,全勤奖,加班补助,绩效奖金,带薪年假</td>\n",
       "    </tr>\n",
       "    <tr>\n",
       "      <th>2</th>\n",
       "      <td>寿光市志旺网络科技有限公司</td>\n",
       "      <td>CZ620342580</td>\n",
       "      <td>100-499人</td>\n",
       "      <td>民营</td>\n",
       "      <td>深圳-南山区</td>\n",
       "      <td>后海</td>\n",
       "      <td>不限</td>\n",
       "      <td>全职</td>\n",
       "      <td>年底双薪,绩效奖金,年终分红,全勤奖</td>\n",
       "      <td>软件/互联网开发/系统集成,软件工程师</td>\n",
       "      <td>年底双薪,绩效奖金,年终分红,全勤奖</td>\n",
       "    </tr>\n",
       "    <tr>\n",
       "      <th>3</th>\n",
       "      <td>深圳市指昂科技有限公司</td>\n",
       "      <td>CZ238398210</td>\n",
       "      <td>20-99人</td>\n",
       "      <td>民营</td>\n",
       "      <td>深圳</td>\n",
       "      <td>西丽</td>\n",
       "      <td>本科</td>\n",
       "      <td>全职</td>\n",
       "      <td>五险一金,周末双休,年底双薪,绩效奖金,全勤奖,每年多次调薪</td>\n",
       "      <td>软件/互联网开发/系统集成,软件工程师</td>\n",
       "      <td>五险一金,周末双休,年底双薪,绩效奖金,全勤奖</td>\n",
       "    </tr>\n",
       "    <tr>\n",
       "      <th>4</th>\n",
       "      <td>寿光市志旺网络科技有限公司</td>\n",
       "      <td>CZ620342580</td>\n",
       "      <td>100-499人</td>\n",
       "      <td>民营</td>\n",
       "      <td>深圳-南山区</td>\n",
       "      <td>后海</td>\n",
       "      <td>大专</td>\n",
       "      <td>全职</td>\n",
       "      <td>年底双薪,绩效奖金,年终分红,全勤奖</td>\n",
       "      <td>软件/互联网开发/系统集成,软件工程师</td>\n",
       "      <td>年底双薪,绩效奖金,年终分红,全勤奖</td>\n",
       "    </tr>\n",
       "  </tbody>\n",
       "</table>\n",
       "</div>"
      ],
      "text/plain": [
       "            公司名称         公司编号      公司规模 公司类型    工作城市 工作路段 学历需求 招募类型  \\\n",
       "0   杭州时至信息技术有限公司  CZ291000080     20人以下   民营  杭州-西湖区  古墩路   大专   全职   \n",
       "1    深圳市昊微科技有限公司  CZ642828880        不限   民营      深圳   西乡   大专   全职   \n",
       "2  寿光市志旺网络科技有限公司  CZ620342580  100-499人   民营  深圳-南山区   后海   不限   全职   \n",
       "3    深圳市指昂科技有限公司  CZ238398210    20-99人   民营      深圳   西丽   本科   全职   \n",
       "4  寿光市志旺网络科技有限公司  CZ620342580  100-499人   民营  深圳-南山区   后海   大专   全职   \n",
       "\n",
       "                                               工作/福利                    工作类型  \\\n",
       "0  docker,Java,Python,GO,爬虫,云计算,每年多次调薪,五险一金,绩效奖金,...  软件/互联网开发/系统集成,互联网软件工程师   \n",
       "1                  每年多次调薪,全勤奖,加班补助,绩效奖金,带薪年假,员工旅游,餐补     软件/互联网开发/系统集成,软件工程师   \n",
       "2                                 年底双薪,绩效奖金,年终分红,全勤奖     软件/互联网开发/系统集成,软件工程师   \n",
       "3                     五险一金,周末双休,年底双薪,绩效奖金,全勤奖,每年多次调薪     软件/互联网开发/系统集成,软件工程师   \n",
       "4                                 年底双薪,绩效奖金,年终分红,全勤奖     软件/互联网开发/系统集成,软件工程师   \n",
       "\n",
       "                           福利  \n",
       "0  每年多次调薪,五险一金,绩效奖金,股票期权,带薪年假  \n",
       "1   每年多次调薪,全勤奖,加班补助,绩效奖金,带薪年假  \n",
       "2          年底双薪,绩效奖金,年终分红,全勤奖  \n",
       "3     五险一金,周末双休,年底双薪,绩效奖金,全勤奖  \n",
       "4          年底双薪,绩效奖金,年终分红,全勤奖  "
      ]
     },
     "execution_count": 13,
     "metadata": {},
     "output_type": "execute_result"
    }
   ],
   "source": [
    "data = pd.read_csv('data.csv')  # usecols=[1,2,3,4]前四列\n",
    "data.head() # 全部信息读取前五行"
   ]
  },
  {
   "cell_type": "code",
   "execution_count": 16,
   "metadata": {},
   "outputs": [
    {
     "data": {
      "image/png": "[encoded data removed]",
      "text/plain": [
       "<matplotlib.figure.Figure at 0x265ba539fd0>"
      ]
     },
     "metadata": {},
     "output_type": "display_data"
    }
   ],
   "source": [
    "# 学历要求。基本上都是要求本科\n",
    "labels= list(data['学历需求'].value_counts().index)\n",
    "fracs = list(data['学历需求'].value_counts().values)\n",
    "explode = [0, 0.1, 0.2, 0.3] \n",
    "plt.pie(x=fracs, labels=labels, explode=explode, autopct='%.3f',radius = 0.8)\n",
    "plt.show()"
   ]
  },
  {
   "cell_type": "code",
   "execution_count": null,
   "metadata": {
    "collapsed": true
   },
   "outputs": [],
   "source": []
  }
 ],
 "metadata": {
  "kernelspec": {
   "display_name": "Python 3",
   "language": "python",
   "name": "python3"
  },
  "language_info": {
   "codemirror_mode": {
    "name": "ipython",
    "version": 3
   },
   "file_extension": ".py",
   "mimetype": "text/x-python",
   "name": "python",
   "nbconvert_exporter": "python",
   "pygments_lexer": "ipython3",
   "version": "3.6.1"
  }
 },
 "nbformat": 4,
 "nbformat_minor": 2
}
